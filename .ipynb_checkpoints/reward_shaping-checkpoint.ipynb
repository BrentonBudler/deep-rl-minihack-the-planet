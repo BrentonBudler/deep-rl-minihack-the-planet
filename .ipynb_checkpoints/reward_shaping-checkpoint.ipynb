{
 "cells": [
  {
   "cell_type": "code",
   "execution_count": 1,
   "id": "fdffc895",
   "metadata": {
    "scrolled": true
   },
   "outputs": [
    {
     "name": "stdout",
     "output_type": "stream",
     "text": [
      "Init Plugin\n",
      "Init Graph Optimizer\n",
      "Init Kernel\n"
     ]
    }
   ],
   "source": [
    "import numpy as np\n",
    "import gym\n",
    "\n",
    "import tensorflow as tf\n",
    "import tensorflow.keras as keras\n",
    "from tensorflow.keras.layers import Dense, Conv2D, MaxPool2D, Flatten\n",
    "from tensorflow.keras.optimizers import Adam\n",
    "import tensorflow_probability as tfp\n",
    "\n",
    "import matplotlib.pyplot as plt \n",
    "\n",
    "from nle import nethack\n",
    "import gym\n",
    "import minihack\n",
    "from PIL import Image\n",
    "import numpy as np\n",
    "import matplotlib.pyplot as plt\n",
    "from nle import nethack\n",
    "import time\n",
    "import array"
   ]
  },
  {
   "cell_type": "code",
   "execution_count": 2,
   "id": "552697cd",
   "metadata": {},
   "outputs": [],
   "source": [
    "import os\n",
    "os.environ['KMP_DUPLICATE_LIB_OK']='True'"
   ]
  },
  {
   "cell_type": "code",
   "execution_count": 3,
   "id": "d040060b",
   "metadata": {},
   "outputs": [],
   "source": [
    "class PolicyGradientNetwork(keras.Model):\n",
    "    \n",
    "    # Initialize network and archtitecture\n",
    "    \n",
    "    #ADD CO-ORDS \"tty_cursor\"\n",
    "    def __init__(self, n_actions, fc1_dims=256, fc2_dims=128, fc3_dims = 256, fc4_dims=128, fc5_dims=64):\n",
    "        super(PolicyGradientNetwork,self).__init__()\n",
    "        self.fc1_dims = fc1_dims\n",
    "        self.fc2_dims = fc2_dims \n",
    "        self.fc3_dims = fc3_dims\n",
    "        self.fc4_dims = fc4_dims \n",
    "        self.fc5_dims = fc5_dims \n",
    "        self.n_actions = n_actions\n",
    "        \n",
    "        \n",
    "        # Conv for full glyphs \n",
    "        self.conv1 = Conv2D(filters=32, kernel_size=(2,2) , padding = 'same', activation='relu')\n",
    "        self.maxpool1 = MaxPool2D(pool_size=(2, 2))\n",
    "        self.conv2 = Conv2D(filters=16, kernel_size=(2,2) , padding = 'same', activation='relu')\n",
    "        self.maxpool2 =MaxPool2D(pool_size=(2, 2))\n",
    "        self.flatten = Flatten()\n",
    "        \n",
    "        \n",
    "        # Conv for cropped glyphs \n",
    "        self.conv3= Conv2D(filters=32, kernel_size=(2,2) , padding = 'same', activation='relu')\n",
    "        self.maxpool3 = MaxPool2D(pool_size=(2, 2))\n",
    "        self.conv4 = Conv2D(filters=16, kernel_size=(2,2) , padding = 'same', activation='relu')\n",
    "        self.maxpool4 =MaxPool2D(pool_size=(2, 2))\n",
    "        self.flatten_crop= Flatten()\n",
    "        \n",
    "\n",
    "        self.fc1 = Dense(self.fc1_dims, activation = 'relu')\n",
    "        self.fc2 = Dense(self.fc2_dims, activation = 'relu')\n",
    "        self.fc3 = Dense(self.fc3_dims, activation = 'relu')\n",
    "        self.fc4 = Dense(self.fc4_dims, activation = 'relu')\n",
    "        self.fc5 = Dense(self.fc5_dims, activation = 'relu')\n",
    "        \n",
    "        \n",
    "        self.pi = Dense(self.n_actions, activation = 'softmax')\n",
    "    \n",
    "    # Forward Pass\n",
    "    def call(self,state):\n",
    "        \n",
    "        glyphs_t = tf.convert_to_tensor([state[\"glyphs\"]], dtype=tf.float32)\n",
    "        glyphs_cropped_t = tf.convert_to_tensor([state[\"glyphs_crop\"]], dtype=tf.float32)\n",
    "        \n",
    "        \n",
    "        stats_t = tf.convert_to_tensor([state[\"stats\"]], dtype=tf.float32)\n",
    "        inv_glyphs_t = tf.convert_to_tensor([state[\"inv_glyphs\"]], dtype=tf.float32)\n",
    "        stats_inv_t = tf.concat([stats_t,inv_glyphs_t], 1)\n",
    "        \n",
    "        message_t = tf.convert_to_tensor([state[\"message\"]], dtype=tf.float32)\n",
    "        stats_inv_mess_t = tf.concat([stats_inv_t,message_t], 1)\n",
    "        \n",
    "        # Full\n",
    "        conv_value = self.conv1(glyphs_t)\n",
    "        conv_value = self.maxpool1(conv_value)\n",
    "        conv_value = self.conv2(conv_value)\n",
    "        conv_value = self.maxpool2(conv_value)\n",
    "        conv_value = self.flatten(conv_value)\n",
    "        \n",
    "        # Cropped \n",
    "        conv_value_crop = self.conv3(glyphs_cropped_t)\n",
    "        conv_value_crop = self.maxpool3(conv_value_crop)\n",
    "        conv_value_crop = self.conv4(conv_value_crop)\n",
    "        conv_value_crop = self.maxpool4(conv_value_crop)\n",
    "        conv_value_crop = self.flatten_crop(conv_value_crop)\n",
    "        \n",
    "        # Inclusion of Stats, Inv_glpyhs, Message \n",
    "        fc_value = self.fc1(stats_inv_mess_t)\n",
    "        fc_value = self.fc2(fc_value)\n",
    "        \n",
    "        value = tf.concat([conv_value,conv_value_crop, fc_value],1)\n",
    "\n",
    "        value = self.fc3(value)\n",
    "        value = self.fc4(value)\n",
    "        value = self.fc5(value)\n",
    "        \n",
    "        pi = self.pi(value)\n",
    "        \n",
    "        return pi "
   ]
  },
  {
   "cell_type": "code",
   "execution_count": 4,
   "id": "95c6cefd",
   "metadata": {},
   "outputs": [],
   "source": [
    "class Agent:\n",
    "    def __init__(self, alpha = 0.003, gamma = 0.99, n_actions = 4):\n",
    "        self.gamma = gamma\n",
    "        self.alpha = alpha\n",
    "        self.n_actions = n_actions\n",
    "        \n",
    "        # Keep tracks of the actions we take, the states we visit and the rewards we get \n",
    "        self.state_memory = [] \n",
    "        self.action_memory = [] \n",
    "        self.reward_memory = [] \n",
    "        \n",
    "        # Policy Network \n",
    "        self.policy = PolicyGradientNetwork(n_actions=n_actions)\n",
    "        self.policy.compile(optimizer=Adam(learning_rate=self.alpha))\n",
    "    \n",
    "    def choose_action(self, observation):\n",
    "        # Convert numpy array to tensorflow tensor\n",
    "        #state = tf.convert_to_tensor([observation], dtype=tf.float32)\n",
    "        state = observation\n",
    "        \n",
    "        # Then we want to pass that state through the policy network \n",
    "        # Which gives us the probability distribution for choosing each action \n",
    "        probs = self.policy(state)\n",
    "        \n",
    "        # Used when you have a set of discrete classes and you want to choose one of classes with a particular proba\n",
    "        action_probs = tfp.distributions.Categorical(probs=probs)\n",
    "        \n",
    "        action = action_probs.sample()\n",
    "\n",
    "        return action.numpy()[0]\n",
    "    \n",
    "    def store_transition(self, observation, action, reward):\n",
    "        # Stores the transitions of the current episode \n",
    "        self.state_memory.append(observation)\n",
    "        self.action_memory.append(action)\n",
    "        self.reward_memory.append(reward)\n",
    "        \n",
    "    def learn(self):\n",
    "        # Now we need a function to actually perform the agents learning \n",
    "        \n",
    "        # Convert actions and rewards to tensors\n",
    "        actions = tf.convert_to_tensor(self.action_memory, dtype=tf.float32)\n",
    "        rewards = tf.convert_to_tensor(self.reward_memory, dtype=tf.float32)\n",
    "        \n",
    "        # Calculate sum of future rewards which follow each time step \n",
    "        G = np.zeros_like(rewards)\n",
    "        # Now we iterate over the agents memory \n",
    "        for t in range(len(rewards)):\n",
    "            G_sum = 0 \n",
    "            discount = 1 # Present step \n",
    "            for k in range(t, len(rewards)): # Goes from current time step to end of the episode \n",
    "                G_sum += rewards[k]*discount\n",
    "                discount *= self.gamma\n",
    "            G[t]= G_sum \n",
    "        \n",
    "        # Now we can calculate the gradient at each time step in the episode \n",
    "        with tf.GradientTape() as tape:\n",
    "            loss = 0 \n",
    "            # Now workign back through the agent's memory \n",
    "            for idx, (g,state) in enumerate(zip(G,self.state_memory)):\n",
    "                #state = tf.convert_to_tensor([state], dtype=tf.float32)\n",
    "                probs = self.policy(state)\n",
    "                action_probs = tfp.distributions.Categorical(probs=probs)\n",
    "                # Log probability for the gradient calculation\n",
    "                log_prob = action_probs.log_prob(actions[idx])\n",
    "                loss += -g * tf.squeeze(log_prob)\n",
    "                \n",
    "        gradient = tape.gradient(loss, self.policy.trainable_variables)\n",
    "        #self.policy.optimizer.apply_gradients(zip(gradient, self.policy.trainable_variables))\n",
    "        self.policy.optimizer.apply_gradients((grad, var) for (grad, var) in zip(gradient, self.policy.trainable_variables) if grad is not None)\n",
    "        \n",
    "        # Now at the end of every episode we need to zero out (empty) our agent's memory \n",
    "        \n",
    "        self.state_memory = [] \n",
    "        self.action_memory = [] \n",
    "        self.reward_memory = [] "
   ]
  },
  {
   "cell_type": "code",
   "execution_count": 5,
   "id": "9520c551",
   "metadata": {},
   "outputs": [],
   "source": [
    "def format_obs(observation):\n",
    "    glyphs = np.array(observation[\"glyphs\"]/observation[\"glyphs\"].max())\n",
    "    glyphs = glyphs.reshape((21,79,1))\n",
    "    \n",
    "    glyphs_crop = np.array(observation[\"glyphs_crop\"]/observation[\"glyphs_crop\"].max())\n",
    "    glyphs_crop = glyphs_crop.reshape((9,9,1))\n",
    "    \n",
    "    bl_max = observation[\"blstats\"].max()\n",
    "    if bl_max == 0:\n",
    "        stats = np.array(observation[\"blstats\"])\n",
    "    else:\n",
    "        stats = np.array(observation[\"blstats\"]/bl_max)\n",
    "        \n",
    "    \n",
    "    inv_glyphs = np.array(observation[\"inv_glyphs\"]/observation[\"inv_glyphs\"].max())\n",
    "    \n",
    "    mes_max = observation[\"message\"].max()\n",
    "    if mes_max == 0:\n",
    "        message = np.array(observation[\"message\"])\n",
    "    else:\n",
    "        message = np.array(observation[\"message\"]/mes_max)\n",
    "    \n",
    "    \n",
    "    observation = {'glyphs':glyphs,'glyphs_crop':glyphs_crop, 'stats':stats,'inv_glyphs':inv_glyphs, 'message': message} \n",
    "    \n",
    "    return observation "
   ]
  },
  {
   "cell_type": "code",
   "execution_count": 6,
   "id": "c4754a33",
   "metadata": {},
   "outputs": [],
   "source": [
    "NAVIGATE_ACTIONS = (\n",
    "    nethack.CompassDirection.N,\n",
    "    nethack.CompassDirection.E,\n",
    "    nethack.CompassDirection.S,\n",
    "    nethack.CompassDirection.W,\n",
    "#     nethack.CompassDirection.NW,\n",
    "#     nethack.Command.PICKUP,\n",
    "#     nethack.Command.APPLY,\n",
    "#     nethack.Command.FIRE,\n",
    "#     nethack.Command.RUSH,\n",
    "#     nethack.Command.ZAP, \n",
    "#     nethack.Command.PUTON,\n",
    "#     nethack.Command.READ, \n",
    "#     nethack.Command.WEAR, \n",
    "#     nethack.Command.QUAFF\n",
    " )"
   ]
  },
  {
   "cell_type": "code",
   "execution_count": 7,
   "id": "42d4fed6",
   "metadata": {},
   "outputs": [],
   "source": [
    "def messages(env, prev_obs, action, next_obs):\n",
    "    print(\"messss: \",decode_utf(next_obs[5]))\n",
    "    if \"f - \" in decode_utf(next_obs[5]) or  \"g - \" in decode_utf(next_obs[5]):\n",
    "        return 1\n",
    "    if \"[\" in decode_utf(next_obs[5]) and  \"]\" in decode_utf(next_obs[5]):\n",
    "        return 2\n",
    "    if \"The lava cools and solidifies\" in decode_utf(next_obs[5]):\n",
    "        return 3\n",
    "#     if \"In what direction?\" in decode_utf(next_obs[5]):\n",
    "#         return 2\n",
    "    if \"You start to float in the air!\" in decode_utf(next_obs[5]):\n",
    "        return 3\n",
    "    if \"You finish your dressing maneuver.\" in decode_utf(next_obs[5]):\n",
    "        return 3\n",
    "    return -0.01\n",
    "    "
   ]
  },
  {
   "cell_type": "code",
   "execution_count": 8,
   "id": "ce9afdcc",
   "metadata": {},
   "outputs": [],
   "source": [
    "def maze_explore_reward(env, prev_obs, action, next_obs):\n",
    "    if (prev_obs[0] == 2359).sum() > (next_obs[0] == 2359).sum():\n",
    "        return 1\n",
    "    return 0"
   ]
  },
  {
   "cell_type": "code",
   "execution_count": 9,
   "id": "119dc607",
   "metadata": {},
   "outputs": [],
   "source": [
    "def standing_still(env, prev_obs, action, next_obs):\n",
    "    if (prev_obs[13] == next_obs[13]).all():\n",
    "        return -1\n",
    "    return 0"
   ]
  },
  {
   "cell_type": "code",
   "execution_count": 10,
   "id": "4eefc45d",
   "metadata": {
    "scrolled": true
   },
   "outputs": [
    {
     "ename": "NameError",
     "evalue": "name 'decode_utf' is not defined",
     "output_type": "error",
     "traceback": [
      "\u001b[0;31m---------------------------------------------------------------------------\u001b[0m",
      "\u001b[0;31mNameError\u001b[0m                                 Traceback (most recent call last)",
      "\u001b[0;32m/var/folders/wm/vfztc0rx29d3qrfj3k_2nkgm0000gn/T/ipykernel_80976/2831677860.py\u001b[0m in \u001b[0;36m<module>\u001b[0;34m\u001b[0m\n\u001b[1;32m     16\u001b[0m \u001b[0mplt\u001b[0m\u001b[0;34m.\u001b[0m\u001b[0mfigure\u001b[0m\u001b[0;34m(\u001b[0m\u001b[0mfigsize\u001b[0m\u001b[0;34m=\u001b[0m\u001b[0;34m(\u001b[0m\u001b[0;36m15\u001b[0m\u001b[0;34m,\u001b[0m \u001b[0;36m30\u001b[0m\u001b[0;34m)\u001b[0m\u001b[0;34m)\u001b[0m\u001b[0;34m\u001b[0m\u001b[0;34m\u001b[0m\u001b[0m\n\u001b[1;32m     17\u001b[0m \u001b[0mplt\u001b[0m\u001b[0;34m.\u001b[0m\u001b[0mimshow\u001b[0m\u001b[0;34m(\u001b[0m\u001b[0mstate\u001b[0m\u001b[0;34m[\u001b[0m\u001b[0;34m'pixel'\u001b[0m\u001b[0;34m]\u001b[0m\u001b[0;34m)\u001b[0m\u001b[0;31m#[100:225,300:900])\u001b[0m\u001b[0;34m\u001b[0m\u001b[0;34m\u001b[0m\u001b[0m\n\u001b[0;32m---> 18\u001b[0;31m \u001b[0mprint\u001b[0m\u001b[0;34m(\u001b[0m\u001b[0mdecode_utf\u001b[0m\u001b[0;34m(\u001b[0m\u001b[0mstate\u001b[0m\u001b[0;34m[\u001b[0m\u001b[0;34m'message'\u001b[0m\u001b[0;34m]\u001b[0m\u001b[0;34m)\u001b[0m\u001b[0;34m)\u001b[0m\u001b[0;34m\u001b[0m\u001b[0;34m\u001b[0m\u001b[0m\n\u001b[0m\u001b[1;32m     19\u001b[0m \u001b[0;31m#env.reward_manager.add_location_event(\"staircase down\", reward=1.1, terminal_sufficient = True)\u001b[0m\u001b[0;34m\u001b[0m\u001b[0;34m\u001b[0m\u001b[0m\n\u001b[1;32m     20\u001b[0m \u001b[0;34m\u001b[0m\u001b[0m\n",
      "\u001b[0;31mNameError\u001b[0m: name 'decode_utf' is not defined"
     ]
    },
    {
     "data": {
      "image/png": "[encoded data removed]",
      "text/plain": [
       "<Figure size 1080x2160 with 1 Axes>"
      ]
     },
     "metadata": {
      "needs_background": "light"
     },
     "output_type": "display_data"
    }
   ],
   "source": [
    "from minihack import RewardManager\n",
    "reward_gen = RewardManager()\n",
    "\n",
    "reward_gen.add_eat_event(\"apple\", reward=1)\n",
    "reward_gen.add_coordinate_event((11,28), reward = 10000, terminal_sufficient = True) # first door\n",
    "reward_gen.add_custom_reward_fn(maze_explore_reward)\n",
    "reward_gen.add_custom_reward_fn(standing_still)\n",
    "\n",
    "# reward_gen.add_coordinate_event((11,38), reward = 1, terminal_required = False)\n",
    "# reward_gen.kill_event(\"minotaur\", reward = 2, terminal_required = False)\n",
    "\n",
    "env = gym.make(\"MiniHack-Quest-Hard-v0\", observation_keys=[\"glyphs\",\"glyphs_crop\",\"pixel\",\"blstats\",\"inv_glyphs\",\"message\", \"screen_descriptions\", \"tty_cursor\"],\n",
    "              actions  = NAVIGATE_ACTIONS, reward_manager = reward_gen)\n",
    "\n",
    "state = env.reset()\n",
    "plt.figure(figsize=(15, 30))\n",
    "plt.imshow(state['pixel'])#[100:225,300:900])\n",
    "print(decode_utf(state['message']))\n",
    "#env.reward_manager.add_location_event(\"staircase down\", reward=1.1, terminal_sufficient = True)\n",
    "\n",
    "\n",
    "# if(env.screen_contains(\"potion\")):\n",
    "#     env.reward_manager.add_location_event(\"potion\", reward=1.23, terminal_required=False)\n",
    "# if(env.screen_contains(\"horn\")):\n",
    "#     env.reward_manager.add_location_event(\"horn\", reward=3, terminal_required=False)\n",
    "# if(env.screen_contains(\"ring\")):\n",
    "#     env.reward_manager.add_location_event(\"ring\", reward=3, terminal_required=False)\n",
    "# if(env.screen_contains(\"wand\")):\n",
    "#     env.reward_manager.add_location_event(\"wand\", reward=3, terminal_required=False)\n",
    "# if(env.screen_contains(\"boots\")):\n",
    "#     env.reward_manager.add_location_event(\"boots\", reward=3, terminal_required=False)"
   ]
  },
  {
   "cell_type": "code",
   "execution_count": null,
   "id": "3b68d8dd",
   "metadata": {
    "scrolled": true
   },
   "outputs": [],
   "source": [
    "state, reward, done, info = env.step(1)\n",
    "plt.figure(figsize=(15, 30))\n",
    "plt.imshow(state['pixel'])#[100:225,300:900])\n",
    "print(decode_utf(state['message']))\n",
    "print(reward)\n",
    "print(done)"
   ]
  },
  {
   "cell_type": "code",
   "execution_count": 11,
   "id": "cfe2db03",
   "metadata": {},
   "outputs": [
    {
     "ename": "NameError",
     "evalue": "name 'decoded' is not defined",
     "output_type": "error",
     "traceback": [
      "\u001b[0;31m---------------------------------------------------------------------------\u001b[0m",
      "\u001b[0;31mNameError\u001b[0m                                 Traceback (most recent call last)",
      "\u001b[0;32m/var/folders/wm/vfztc0rx29d3qrfj3k_2nkgm0000gn/T/ipykernel_80976/3269927882.py\u001b[0m in \u001b[0;36m<module>\u001b[0;34m\u001b[0m\n\u001b[1;32m      7\u001b[0m         \u001b[0;32mif\u001b[0m \u001b[0msd\u001b[0m\u001b[0;34m[\u001b[0m\u001b[0mi\u001b[0m\u001b[0;34m,\u001b[0m\u001b[0mj\u001b[0m\u001b[0;34m]\u001b[0m\u001b[0;34m.\u001b[0m\u001b[0mmax\u001b[0m\u001b[0;34m(\u001b[0m\u001b[0;34m)\u001b[0m\u001b[0;34m!=\u001b[0m\u001b[0;36m0\u001b[0m\u001b[0;34m:\u001b[0m\u001b[0;34m\u001b[0m\u001b[0;34m\u001b[0m\u001b[0m\n\u001b[1;32m      8\u001b[0m             \u001b[0mdecoded\u001b[0m \u001b[0;34m=\u001b[0m \u001b[0mdecode_utf\u001b[0m\u001b[0;34m(\u001b[0m\u001b[0msd\u001b[0m\u001b[0;34m[\u001b[0m\u001b[0mi\u001b[0m\u001b[0;34m,\u001b[0m\u001b[0mj\u001b[0m\u001b[0;34m]\u001b[0m\u001b[0;34m)\u001b[0m\u001b[0;34m\u001b[0m\u001b[0;34m\u001b[0m\u001b[0m\n\u001b[0;32m----> 9\u001b[0;31m         \u001b[0mprint\u001b[0m\u001b[0;34m(\u001b[0m\u001b[0mi\u001b[0m\u001b[0;34m,\u001b[0m\u001b[0mj\u001b[0m\u001b[0;34m,\u001b[0m \u001b[0mdecoded\u001b[0m\u001b[0;34m)\u001b[0m\u001b[0;34m\u001b[0m\u001b[0;34m\u001b[0m\u001b[0m\n\u001b[0m",
      "\u001b[0;31mNameError\u001b[0m: name 'decoded' is not defined"
     ]
    }
   ],
   "source": [
    "def decode_utf(arr):\n",
    "    return array.array('b', arr).tobytes().decode('utf-8')\n",
    "\n",
    "sd = state[\"screen_descriptions\"]\n",
    "for i in range(sd.shape[0]):\n",
    "    for j in range(sd.shape[1]):\n",
    "        if sd[i,j].max()!=0:\n",
    "            decoded = decode_utf(sd[i,j])\n",
    "        print(i,j, decoded)"
   ]
  },
  {
   "cell_type": "code",
   "execution_count": 12,
   "id": "56bdab76",
   "metadata": {},
   "outputs": [
    {
     "data": {
      "text/plain": [
       "2359"
      ]
     },
     "execution_count": 12,
     "metadata": {},
     "output_type": "execute_result"
    }
   ],
   "source": [
    "state[\"glyphs\"][11,38]"
   ]
  },
  {
   "cell_type": "code",
   "execution_count": 13,
   "id": "9b85ab6b",
   "metadata": {},
   "outputs": [
    {
     "name": "stdout",
     "output_type": "stream",
     "text": [
      "0 CompassDirection.N\n",
      "1 CompassDirection.E\n",
      "2 CompassDirection.S\n",
      "3 CompassDirection.W\n"
     ]
    }
   ],
   "source": [
    "for i in range(env.action_space.n):\n",
    "    print(i, env._actions[i])"
   ]
  },
  {
   "cell_type": "code",
   "execution_count": null,
   "id": "df122d71",
   "metadata": {},
   "outputs": [],
   "source": [
    "agent = Agent(alpha=0.0005, gamma =0.99, n_actions = env.action_space.n)\n",
    "#agent = Agent(alpha=0.05, gamma =0.9, n_actions = env.action_space.n)\n",
    "\n",
    "score_history = [] \n",
    "n_episodes = 1000\n",
    "\n",
    "for i in range(n_episodes):\n",
    "    done = False\n",
    "    score = 0 \n",
    "    observation = format_obs(env.reset())\n",
    "    \n",
    "    for j in range(250):\n",
    "        action = agent.choose_action(observation)  \n",
    "        observation_, reward, done, info = env.step(action)\n",
    "        observation_ = format_obs(observation_)\n",
    "        agent.store_transition(observation, action, reward)\n",
    "        observation = observation_ \n",
    "        score += reward \n",
    "        if done:\n",
    "            break\n",
    "    score_history.append(score)\n",
    "    \n",
    "    agent.learn()\n",
    "    \n",
    "    avg_score = np.mean(score_history[-100:])\n",
    "    print('episode ', i, 'score %.1f' % score, 'avg score %.1f' % avg_score)\n",
    "    \n",
    "plt.plot(score_history)"
   ]
  },
  {
   "cell_type": "code",
   "execution_count": null,
   "id": "7796d24c",
   "metadata": {},
   "outputs": [],
   "source": []
  },
  {
   "cell_type": "code",
   "execution_count": null,
   "id": "480e6ef7",
   "metadata": {},
   "outputs": [],
   "source": []
  }
 ],
 "metadata": {
  "kernelspec": {
   "display_name": "Python [conda env:minihack] *",
   "language": "python",
   "name": "conda-env-minihack-py"
  },
  "language_info": {
   "codemirror_mode": {
    "name": "ipython",
    "version": 3
   },
   "file_extension": ".py",
   "mimetype": "text/x-python",
   "name": "python",
   "nbconvert_exporter": "python",
   "pygments_lexer": "ipython3",
   "version": "3.9.7"
  }
 },
 "nbformat": 4,
 "nbformat_minor": 5
}
