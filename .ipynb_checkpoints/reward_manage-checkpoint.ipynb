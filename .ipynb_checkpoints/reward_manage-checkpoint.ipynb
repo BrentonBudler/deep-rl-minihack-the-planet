{
 "cells": [
  {
   "cell_type": "code",
   "execution_count": 297,
   "id": "1b1c61d9",
   "metadata": {},
   "outputs": [],
   "source": [
    "import gym\n",
    "import minihack \n",
    "from nle import nethack \n",
    "\n",
    "import numpy as np \n",
    "import random\n",
    "import matplotlib.pyplot as plt \n",
    "from PIL import Image\n",
    "\n",
    "import torch\n",
    "\n",
    "\n",
    "import torch.nn as nn\n",
    "import torch.nn.functional as F\n",
    "\n",
    "from torch import flatten\n",
    "\n",
    "from torch.nn import Linear, ReLU, CrossEntropyLoss, Sequential, Conv2d, MaxPool2d, Module, Softmax, BatchNorm2d, Dropout"
   ]
  },
  {
   "cell_type": "code",
   "execution_count": 298,
   "id": "f9432ce9",
   "metadata": {},
   "outputs": [],
   "source": [
    "device = torch.device(\"cuda\" if torch.cuda.is_available() else \"cpu\")"
   ]
  },
  {
   "cell_type": "code",
   "execution_count": 299,
   "id": "6999b6ef",
   "metadata": {},
   "outputs": [],
   "source": [
    "def maze_explore_reward(env, prev_obs, action, next_obs):\n",
    "    if (prev_obs[0] == 2359).sum() > (next_obs[0] == 2359).sum():\n",
    "        return 0.1\n",
    "    return 0\n",
    "\n",
    "def standing_still(env, prev_obs, action, next_obs):\n",
    "    if (prev_obs[13] == next_obs[13]).all():\n",
    "        return -0.1\n",
    "    return 0"
   ]
  },
  {
   "cell_type": "code",
   "execution_count": null,
   "id": "14ce189e",
   "metadata": {
    "scrolled": true
   },
   "outputs": [],
   "source": []
  },
  {
   "cell_type": "code",
   "execution_count": 300,
   "id": "617a5829",
   "metadata": {},
   "outputs": [],
   "source": [
    "from minihack import RewardManager\n",
    "reward_gen = RewardManager()\n",
    "reward_gen.add_eat_event(\"apple\", reward=1)\n",
    "#reward_gen.add_location_event(\"staircase down\", reward=10,terminal_required=True,terminal_sufficient=False, repeatable=False)\n",
    "reward_gen.add_custom_reward_fn(maze_explore_reward)\n",
    "reward_gen.add_custom_reward_fn(standing_still)\n",
    "\n",
    "\n",
    "#You get it if it is not on the screen\n"
   ]
  },
  {
   "cell_type": "code",
   "execution_count": 301,
   "id": "f7b146bb",
   "metadata": {},
   "outputs": [],
   "source": [
    "def display_screen(state):\n",
    "    screen = Image.fromarray(np.uint8(state['pixel']))\n",
    "    display(screen)"
   ]
  },
  {
   "cell_type": "code",
   "execution_count": 302,
   "id": "ae7e81b7",
   "metadata": {},
   "outputs": [
    {
     "data": {
      "text/plain": [
       "8"
      ]
     },
     "execution_count": 302,
     "metadata": {},
     "output_type": "execute_result"
    }
   ],
   "source": [
    "env = gym.make(\"MiniHack-MazeWalk-9x9-v0\", observation_keys=[\"glyphs\",\"pixel\",\"tty_cursor\"],\n",
    "               max_episode_steps=10000,penalty_step=-5)\n",
    "\n",
    "env.action_space.n"
   ]
  },
  {
   "cell_type": "code",
   "execution_count": 303,
   "id": "3697504f",
   "metadata": {
    "scrolled": true
   },
   "outputs": [
    {
     "data": {
      "image/png": "[encoded data removed]",
      "text/plain": [
       "<PIL.Image.Image image mode=RGB size=1264x336 at 0x15F815340>"
      ]
     },
     "metadata": {},
     "output_type": "display_data"
    }
   ],
   "source": [
    "display_screen(env.reset())"
   ]
  },
  {
   "cell_type": "code",
   "execution_count": 304,
   "id": "4021347c",
   "metadata": {},
   "outputs": [
    {
     "data": {
      "image/png": "[encoded data removed]",
      "text/plain": [
       "<PIL.Image.Image image mode=RGB size=1264x336 at 0x1690906D0>"
      ]
     },
     "metadata": {},
     "output_type": "display_data"
    },
    {
     "name": "stdout",
     "output_type": "stream",
     "text": [
      "False 0.0\n"
     ]
    }
   ],
   "source": [
    "next_state,reward,done,_ = env.step(2)\n",
    "#loc = next_state[\"tty_cursor\"]\n",
    "\n",
    "display_screen(next_state)\n",
    "print(done,reward)\n",
    "#env.get_screen_description(x=loc[1],y=loc[0]-1)"
   ]
  },
  {
   "cell_type": "code",
   "execution_count": null,
   "id": "5411e6d9",
   "metadata": {},
   "outputs": [],
   "source": []
  },
  {
   "cell_type": "code",
   "execution_count": 305,
   "id": "f46aa52b",
   "metadata": {},
   "outputs": [
    {
     "name": "stdout",
     "output_type": "stream",
     "text": [
      "['', 'staircase up', 'floor of a room']\n",
      "['', 'human rogue called Agent', '', '']\n",
      "['', 'floor of a room', '']\n"
     ]
    }
   ],
   "source": [
    "print(env.get_neighbor_descriptions()[:3])\n",
    "print(env.get_neighbor_descriptions()[3:7])\n",
    "print(env.get_neighbor_descriptions()[6:10])"
   ]
  },
  {
   "cell_type": "code",
   "execution_count": 306,
   "id": "c4292df6",
   "metadata": {},
   "outputs": [
    {
     "data": {
      "text/plain": [
       "1"
      ]
     },
     "execution_count": 306,
     "metadata": {},
     "output_type": "execute_result"
    }
   ],
   "source": [
    "env.reward_win"
   ]
  },
  {
   "cell_type": "code",
   "execution_count": 307,
   "id": "c8aa9c95",
   "metadata": {},
   "outputs": [],
   "source": [
    "class ActorCritic(nn.Module):\n",
    "    def __init__(self,s_size=8,h_size=128, a_size=4):\n",
    "        super(ActorCritic, self).__init__()\n",
    "        # initialize first set of CONV => RELU => POOL layers\n",
    "        self.conv1 = Conv2d(in_channels=1, out_channels=20,\n",
    "            kernel_size=(5, 5))\n",
    "        self.relu1 = ReLU()\n",
    "        self.maxpool1 = MaxPool2d(kernel_size=(2, 2), stride=(2, 2))\n",
    "        # initialize second set of CONV => RELU => POOL layers\n",
    "        self.conv2 = Conv2d(in_channels=20, out_channels=50,\n",
    "            kernel_size=(5, 5))\n",
    "        self.relu2 = ReLU()\n",
    "        self.maxpool2 = MaxPool2d(kernel_size=(2, 2), stride=(2, 2))\n",
    "        # initialize first (and only) set of FC => RELU layers\n",
    "        self.fc1 = Linear(in_features=1600, out_features=500)\n",
    "        self.relu3 = ReLU()\n",
    "        # initialize our softmax classifier\n",
    "        self.fc2 = Linear(in_features=500, out_features=h_size)\n",
    "\n",
    "        \n",
    "        # To estimate the value function of the state \n",
    "        self.value_layer = nn.Linear(h_size, 1)\n",
    "\n",
    "        # To calculate the probability of each action\n",
    "        self.action_layer = nn.Linear(h_size, a_size)\n",
    "\n",
    "        self.softmax = nn.Softmax(dim=-1)\n",
    "        \n",
    "        \n",
    "        #self.logprobs = []\n",
    "        #self.state_values = []\n",
    "        #self.rewards = []\n",
    "\n",
    "    def forward(self, state):\n",
    "        \n",
    "        x  = torch.from_numpy(state).float().to(device)\n",
    "\n",
    "        # pass the input through our first set of CONV => RELU =>\n",
    "        # POOL layers\n",
    "        x = self.conv1(x)\n",
    "        x = self.relu1(x)\n",
    "        x = self.maxpool1(x)\n",
    "        # pass the output from the previous layer through the second\n",
    "        # set of CONV => RELU => POOL layers\n",
    "        x = self.conv2(x)\n",
    "        x = self.relu2(x)\n",
    "        x = self.maxpool2(x)\n",
    "        # flatten the output from the previous layer and pass it\n",
    "        # through our only set of FC => RELU layers\n",
    "        x = x.reshape(x.shape[0], -1)\n",
    "        x = self.fc1(x)\n",
    "        x = self.relu3(x)\n",
    "        # pass the output to our softmax classifier to get our output\n",
    "        # predictions\n",
    "        x = self.fc2(x)\n",
    "\n",
    "        state_value = self.value_layer(x)\n",
    "        \n",
    "        action_probs = self.action_layer(x)\n",
    "        action_probs = self.softmax(action_probs)\n",
    "        \n",
    "        return action_probs,state_value"
   ]
  },
  {
   "cell_type": "code",
   "execution_count": 308,
   "id": "0d5a0f26",
   "metadata": {},
   "outputs": [],
   "source": [
    "def display_screen(state):\n",
    "    screen = Image.fromarray(np.uint8(state['pixel']))\n",
    "    display(screen)"
   ]
  },
  {
   "cell_type": "code",
   "execution_count": 309,
   "id": "1a35c52f",
   "metadata": {},
   "outputs": [],
   "source": [
    "def compute_returns(rewards, gamma):\n",
    "    returns = []\n",
    "    r= 0\n",
    "    for reward in rewards[::-1]:\n",
    "        r = reward + gamma*r\n",
    "        returns.append(r)\n",
    "    returns.reverse()\n",
    "    returns = np.array(returns)\n",
    "    \n",
    "    if np.mean(returns)!= 0:\n",
    "         returns = returns - np.mean(returns)\n",
    "        \n",
    "    if np.std(returns) != 0:\n",
    "        returns = returns/ np.std(returns)\n",
    "\n",
    "    return returns"
   ]
  },
  {
   "cell_type": "code",
   "execution_count": 310,
   "id": "8feee086",
   "metadata": {},
   "outputs": [],
   "source": [
    "class ActorCritic(nn.Module):\n",
    "    def __init__(self, input_dim,a_size, hidden_dim=64, layer_dim=3, output_dim=1, dropout_prob=0.2, h_size=128):\n",
    "        super(ActorCritic, self).__init__()\n",
    "        \n",
    "        # initialize first set of CONV => RELU => POOL layers\n",
    "        self.conv1 = Conv2d(in_channels=1, out_channels=20,\n",
    "            kernel_size=(5, 5))\n",
    "        self.relu1 = ReLU()\n",
    "        self.maxpool1 = MaxPool2d(kernel_size=(2, 2), stride=(2, 2))\n",
    "        # initialize second set of CONV => RELU => POOL layers\n",
    "        self.conv2 = Conv2d(in_channels=20, out_channels=50,\n",
    "            kernel_size=(5, 5))\n",
    "        self.relu2 = ReLU()\n",
    "        self.maxpool2 = MaxPool2d(kernel_size=(2, 2), stride=(2, 2))\n",
    "        # initialize first (and only) set of FC => RELU layers\n",
    "        self.fc1 = Linear(in_features=1600, out_features=500)\n",
    "        self.relu3 = ReLU()\n",
    "        # initialize our softmax classifier\n",
    "        self.fc2 = Linear(in_features=500, out_features=h_size)\n",
    "\n",
    "        \n",
    "#         # To estimate the value function of the state \n",
    "#         self.value_layer = nn.Linear(h_size, 1)\n",
    "\n",
    "#         # To calculate the probability of each action\n",
    "#         self.action_layer = nn.Linear(h_size, a_size)\n",
    "\n",
    "#         self.softmax = nn.Softmax(dim=-1)\n",
    "\n",
    "        # Defining the number of layers and the nodes in each layer\n",
    "        self.hidden_dim = hidden_dim\n",
    "        self.layer_dim = layer_dim\n",
    "\n",
    "        # LSTM layers\n",
    "        self.lstm = nn.LSTM(\n",
    "            input_dim, hidden_dim, layer_dim, batch_first=True, dropout=dropout_prob\n",
    "        )\n",
    "\n",
    "        # Fully connected layer\n",
    "        self.fcfinal = nn.Linear(hidden_dim, h_size)    \n",
    "        \n",
    "        # To estimate the value function of the state \n",
    "        self.value_layer = nn.Linear(h_size, 1)\n",
    "        \n",
    "        # To calculate the probability of each action\n",
    "        self.action_layer = nn.Linear(h_size, a_size)\n",
    "        \n",
    "        self.softmax = nn.Softmax(dim=-1)\n",
    "        \n",
    "        #self.logprobs = []\n",
    "        #self.state_values = []\n",
    "        #self.rewards = []\n",
    "\n",
    "    def forward(self, state):\n",
    "        \n",
    "        x  = torch.from_numpy(state).float().to(device)\n",
    "\n",
    "        # pass the input through our first set of CONV => RELU =>\n",
    "        # POOL layers\n",
    "        x = self.conv1(x)\n",
    "        x = self.relu1(x)\n",
    "        x = self.maxpool1(x)\n",
    "        # pass the output from the previous layer through the second\n",
    "        # set of CONV => RELU => POOL layers\n",
    "        x = self.conv2(x)\n",
    "        x = self.relu2(x)\n",
    "        x = self.maxpool2(x)\n",
    "        # flatten the output from the previous layer and pass it\n",
    "        # through our only set of FC => RELU layers\n",
    "        x = x.reshape(x.shape[0], -1)\n",
    "        x = self.fc1(x)\n",
    "        x = self.relu3(x)\n",
    "        # pass the output to our softmax classifier to get our output\n",
    "        # predictions\n",
    "        x = self.fc2(x)\n",
    "        \n",
    "        #x = x.reshape((1,-1,len(x)))\n",
    "\n",
    "        x = torch.reshape(x, (1,1,x.shape[1]))\n",
    "        #print(x.shape) # SOMEHOW WRONG\n",
    "\n",
    "        # Initializing hidden state for first input with zeros\n",
    "        h0 = torch.zeros(self.layer_dim, x.size(1), self.hidden_dim).requires_grad_()\n",
    "\n",
    "        # Initializing cell state for first input with zeros\n",
    "        c0 = torch.zeros(self.layer_dim, x.size(1), self.hidden_dim).requires_grad_()\n",
    "\n",
    "        # We need to detach as we are doing truncated backpropagation through time (BPTT)\n",
    "        # If we don't, we'll backprop all the way to the start even after going through another batch\n",
    "        # Forward propagation by passing in the input, hidden state, and cell state into the model\n",
    "        out, (hn, cn) = self.lstm(x, (h0.detach(), c0.detach()))\n",
    "\n",
    "        # Reshaping the outputs in the shape of (batch_size, seq_length, hidden_size)\n",
    "        # so that it can fit into the fully connected layer\n",
    "        out = out[:, -1, :]\n",
    "\n",
    "        # Convert the final state to our desired output shape (batch_size, output_dim)\n",
    "        out = self.fcfinal(out)\n",
    "        \n",
    "        state_value = self.value_layer(out)\n",
    "        \n",
    "        action_probs = self.action_layer(out)\n",
    "        action_probs = self.softmax(action_probs)\n",
    "        \n",
    "        return action_probs,state_value"
   ]
  },
  {
   "cell_type": "code",
   "execution_count": 311,
   "id": "bc846f85",
   "metadata": {},
   "outputs": [],
   "source": [
    "def actor_critic(env, model, seed, learning_rate,betas, number_episodes, max_episode_length, gamma, max_reward, verbose=True):\n",
    "    # set random seeds (for reproducibility)\n",
    "    torch.manual_seed(seed)\n",
    "    torch.cuda.manual_seed_all(seed)\n",
    "    np.random.seed(seed)\n",
    "    random.seed(seed)\n",
    "    env.seed(seed)\n",
    "    \n",
    "    optimizer = torch.optim.Adam(model.parameters(), lr=learning_rate,betas=betas)\n",
    "    scores =[]\n",
    "    \n",
    "    for i in range(number_episodes):\n",
    "        # Reset environment\n",
    "        state = format_state(env.reset())\n",
    "        # Flag to see if episode has terminated\n",
    "        done = False\n",
    "        \n",
    "        rewards = []\n",
    "        log_probs = []\n",
    "        state_values = []\n",
    "        \n",
    "        for t in range(1, max_episode_length):\n",
    "            \n",
    "            action_probs,state_value = model.forward(state)\n",
    "            \n",
    "            distribution = torch.distributions.Categorical(action_probs)\n",
    "            action = distribution.sample()\n",
    "            next_state, reward, done, _ = env.step(action.item())\n",
    "            next_state = format_state(next_state)\n",
    "    \n",
    "            rewards.append(reward)\n",
    "            log_probs.append(distribution.log_prob(action))\n",
    "            state_values.append(state_value)\n",
    "            \n",
    "            state = next_state\n",
    "            \n",
    "            if done:\n",
    "                break\n",
    "        \n",
    "        scores.append(np.sum(rewards))\n",
    "        returns = compute_returns(rewards, gamma)\n",
    "        returns = torch.from_numpy(returns).float().to(device)\n",
    "        print(\"Episode:\",i,\"Reward:\",np.sum(rewards),\"Average Reward:\",np.mean(scores[-100:]),\"Steps\",t)\n",
    "#         if np.mean(scores[-100:])>= max_reward:\n",
    "#             policy = model\n",
    "#             return policy, scores\n",
    "\n",
    "        loss = 0\n",
    "        for logprob, value, reward in zip(log_probs, state_values, returns):\n",
    "            advantage = reward  - value.item()\n",
    "            action_loss = -logprob * advantage\n",
    "            #value = value.resize(len(value),1)\n",
    "            value_loss = F.smooth_l1_loss(value, reward)\n",
    "            loss += (action_loss + value_loss)   \n",
    "        \n",
    "        optimizer.zero_grad()\n",
    "        loss.backward()\n",
    "        optimizer.step()        \n",
    "        \n",
    "    policy = model\n",
    "\n",
    "    return policy, scores"
   ]
  },
  {
   "cell_type": "code",
   "execution_count": null,
   "id": "265475ed",
   "metadata": {},
   "outputs": [],
   "source": []
  },
  {
   "cell_type": "markdown",
   "id": "ae524b97",
   "metadata": {},
   "source": [
    "## Testing"
   ]
  },
  {
   "cell_type": "code",
   "execution_count": 312,
   "id": "c82919b0",
   "metadata": {},
   "outputs": [],
   "source": [
    "NAVIGATE_ACTIONS = (\n",
    "    nethack.CompassDirection.N,\n",
    "    nethack.CompassDirection.E,\n",
    "    nethack.CompassDirection.S,\n",
    "    nethack.CompassDirection.W,)"
   ]
  },
  {
   "cell_type": "code",
   "execution_count": 313,
   "id": "2ca67787",
   "metadata": {},
   "outputs": [],
   "source": [
    "#env = gym.make(\"MiniHack-MazeWalk-9x9-v0\", observation_keys=[\"glyphs\",\"pixel\"],\n",
    "             # ) #reward_manager= reward_gen"
   ]
  },
  {
   "cell_type": "code",
   "execution_count": 327,
   "id": "342d8677",
   "metadata": {},
   "outputs": [],
   "source": [
    "env = gym.make(\"MiniHack-MazeWalk-Mapped-9x9-v0\", observation_keys=[\"glyphs\",\"pixel\"], actions=NAVIGATE_ACTIONS,\n",
    "              max_episode_steps=10000)"
   ]
  },
  {
   "cell_type": "code",
   "execution_count": 328,
   "id": "bfcd3d43",
   "metadata": {
    "scrolled": true
   },
   "outputs": [
    {
     "data": {
      "text/plain": [
       "4"
      ]
     },
     "execution_count": 328,
     "metadata": {},
     "output_type": "execute_result"
    }
   ],
   "source": [
    "env.action_space.n"
   ]
  },
  {
   "cell_type": "code",
   "execution_count": 329,
   "id": "aeab06f6",
   "metadata": {
    "scrolled": true
   },
   "outputs": [
    {
     "data": {
      "image/png": "[encoded data removed]",
      "text/plain": [
       "<PIL.Image.Image image mode=RGB size=1264x336 at 0x172BA5460>"
      ]
     },
     "metadata": {},
     "output_type": "display_data"
    }
   ],
   "source": [
    "display_screen(env.reset())"
   ]
  },
  {
   "cell_type": "code",
   "execution_count": 330,
   "id": "71c04aa0",
   "metadata": {},
   "outputs": [],
   "source": [
    "def format_state(state):\n",
    "    # Flatten the 2D array \n",
    "    glyphs = state[\"glyphs\"].flatten()\n",
    "    #glyphs = state[\"glyphs\"]\n",
    "    # Normalize\n",
    "    glyphs = glyphs/glyphs.max()\n",
    "    \n",
    "    glyphs = glyphs.reshape((1,-1,len(glyphs)))\n",
    "    return glyphs"
   ]
  },
  {
   "cell_type": "code",
   "execution_count": 318,
   "id": "e182953e",
   "metadata": {},
   "outputs": [],
   "source": [
    "def format_state(state):\n",
    "    # Flatten the 2D array \n",
    "    #glyphs = state[\"glyphs\"].flatten()\n",
    "    glyphs = state[\"glyphs\"]\n",
    "    # Normalize\n",
    "    glyphs = glyphs/glyphs.max()\n",
    "    glyphs = glyphs.reshape((1,1,21,79))\n",
    "    return glyphs"
   ]
  },
  {
   "cell_type": "code",
   "execution_count": null,
   "id": "42e6efea",
   "metadata": {
    "scrolled": true
   },
   "outputs": [],
   "source": []
  },
  {
   "cell_type": "code",
   "execution_count": 319,
   "id": "b2106b67",
   "metadata": {},
   "outputs": [],
   "source": [
    "inputdim = format_state(env.reset()).shape[1]"
   ]
  },
  {
   "cell_type": "code",
   "execution_count": 326,
   "id": "0309c564",
   "metadata": {
    "scrolled": false
   },
   "outputs": [
    {
     "name": "stdout",
     "output_type": "stream",
     "text": [
      "Episode: 0 Reward: -1.16 Average Reward: -1.16 Steps 1152\n"
     ]
    },
    {
     "name": "stderr",
     "output_type": "stream",
     "text": [
      "/var/folders/wm/vfztc0rx29d3qrfj3k_2nkgm0000gn/T/ipykernel_93569/1839236598.py:53: UserWarning: Using a target size (torch.Size([])) that is different to the input size (torch.Size([1, 1])). This will likely lead to incorrect results due to broadcasting. Please ensure they have the same size.\n",
      "  value_loss = F.smooth_l1_loss(value, reward)\n"
     ]
    },
    {
     "name": "stdout",
     "output_type": "stream",
     "text": [
      "Episode: 1 Reward: 0.97 Average Reward: -0.09499999999999997 Steps 99\n",
      "Episode: 2 Reward: 0.99 Average Reward: 0.26666666666666666 Steps 79\n",
      "Episode: 3 Reward: 0.92 Average Reward: 0.43000000000000005 Steps 70\n",
      "Episode: 4 Reward: 0.79 Average Reward: 0.502 Steps 59\n",
      "Episode: 5 Reward: 0.81 Average Reward: 0.5533333333333333 Steps 65\n",
      "Episode: 6 Reward: 0.74 Average Reward: 0.5800000000000001 Steps 62\n",
      "Episode: 7 Reward: 0.78 Average Reward: 0.605 Steps 52\n",
      "Episode: 8 Reward: 0.5399999999999999 Average Reward: 0.5977777777777777 Steps 78\n",
      "Episode: 9 Reward: 0.6699999999999999 Average Reward: 0.605 Steps 63\n",
      "Episode: 10 Reward: 0.85 Average Reward: 0.6272727272727272 Steps 49\n",
      "Episode: 11 Reward: 0.96 Average Reward: 0.6549999999999999 Steps 36\n",
      "Episode: 12 Reward: 0.99 Average Reward: 0.6807692307692308 Steps 31\n",
      "Episode: 13 Reward: 0.93 Average Reward: 0.6985714285714285 Steps 39\n",
      "Episode: 14 Reward: 0.98 Average Reward: 0.7173333333333333 Steps 30\n",
      "Episode: 15 Reward: 0.98 Average Reward: 0.73375 Steps 30\n",
      "Episode: 16 Reward: 0.96 Average Reward: 0.7470588235294118 Steps 34\n",
      "Episode: 17 Reward: 0.97 Average Reward: 0.7594444444444445 Steps 33\n",
      "Episode: 18 Reward: 0.92 Average Reward: 0.7678947368421053 Steps 38\n",
      "Episode: 19 Reward: 0.88 Average Reward: 0.7735000000000001 Steps 46\n",
      "Episode: 20 Reward: 1.0 Average Reward: 0.7842857142857143 Steps 28\n",
      "Episode: 21 Reward: 0.92 Average Reward: 0.7904545454545455 Steps 36\n",
      "Episode: 22 Reward: 0.98 Average Reward: 0.7986956521739131 Steps 34\n",
      "Episode: 23 Reward: 0.99 Average Reward: 0.8066666666666666 Steps 33\n",
      "Episode: 24 Reward: 0.89 Average Reward: 0.81 Steps 43\n",
      "Episode: 25 Reward: 0.96 Average Reward: 0.8157692307692308 Steps 32\n",
      "Episode: 26 Reward: 1.0 Average Reward: 0.8225925925925927 Steps 32\n",
      "Episode: 27 Reward: 0.86 Average Reward: 0.8239285714285715 Steps 44\n",
      "Episode: 28 Reward: 0.91 Average Reward: 0.8268965517241379 Steps 43\n",
      "Episode: 29 Reward: 0.98 Average Reward: 0.8320000000000001 Steps 32\n",
      "Episode: 30 Reward: 0.99 Average Reward: 0.8370967741935483 Steps 29\n",
      "Episode: 31 Reward: 1.0 Average Reward: 0.8421875 Steps 30\n",
      "Episode: 32 Reward: 0.9 Average Reward: 0.8439393939393939 Steps 38\n",
      "Episode: 33 Reward: 0.89 Average Reward: 0.8452941176470588 Steps 39\n",
      "Episode: 34 Reward: 0.98 Average Reward: 0.8491428571428571 Steps 30\n",
      "Episode: 35 Reward: 0.93 Average Reward: 0.8513888888888889 Steps 37\n",
      "Episode: 36 Reward: 0.96 Average Reward: 0.8543243243243243 Steps 34\n",
      "Episode: 37 Reward: 0.98 Average Reward: 0.8576315789473683 Steps 30\n",
      "Episode: 38 Reward: 0.93 Average Reward: 0.8594871794871793 Steps 37\n",
      "Episode: 39 Reward: 0.9 Average Reward: 0.8605 Steps 44\n",
      "Episode: 40 Reward: 0.95 Average Reward: 0.8626829268292684 Steps 33\n",
      "Episode: 41 Reward: 0.74 Average Reward: 0.859761904761905 Steps 54\n",
      "Episode: 42 Reward: 0.96 Average Reward: 0.8620930232558142 Steps 32\n",
      "Episode: 43 Reward: 0.97 Average Reward: 0.8645454545454547 Steps 33\n"
     ]
    },
    {
     "ename": "KeyboardInterrupt",
     "evalue": "",
     "output_type": "error",
     "traceback": [
      "\u001b[0;31m---------------------------------------------------------------------------\u001b[0m",
      "\u001b[0;31mKeyboardInterrupt\u001b[0m                         Traceback (most recent call last)",
      "\u001b[0;32m/var/folders/wm/vfztc0rx29d3qrfj3k_2nkgm0000gn/T/ipykernel_93569/2991698874.py\u001b[0m in \u001b[0;36m<module>\u001b[0;34m\u001b[0m\n\u001b[1;32m      1\u001b[0m \u001b[0mmodel\u001b[0m \u001b[0;34m=\u001b[0m \u001b[0mActorCritic\u001b[0m\u001b[0;34m(\u001b[0m\u001b[0mh_size\u001b[0m\u001b[0;34m=\u001b[0m\u001b[0;36m128\u001b[0m\u001b[0;34m,\u001b[0m \u001b[0minput_dim\u001b[0m \u001b[0;34m=\u001b[0m \u001b[0;36m128\u001b[0m\u001b[0;34m,\u001b[0m \u001b[0ma_size\u001b[0m\u001b[0;34m=\u001b[0m\u001b[0menv\u001b[0m\u001b[0;34m.\u001b[0m\u001b[0maction_space\u001b[0m\u001b[0;34m.\u001b[0m\u001b[0mn\u001b[0m\u001b[0;34m)\u001b[0m\u001b[0;34m\u001b[0m\u001b[0;34m\u001b[0m\u001b[0m\n\u001b[0;32m----> 2\u001b[0;31m policy, scores = actor_critic(env=env, model= model, seed=42, learning_rate=0.02, betas=(0.9, 0.999),\n\u001b[0m\u001b[1;32m      3\u001b[0m                            number_episodes=100, max_episode_length=10000, gamma=1 ,verbose=True, max_reward=1)\n",
      "\u001b[0;32m/var/folders/wm/vfztc0rx29d3qrfj3k_2nkgm0000gn/T/ipykernel_93569/1839236598.py\u001b[0m in \u001b[0;36mactor_critic\u001b[0;34m(env, model, seed, learning_rate, betas, number_episodes, max_episode_length, gamma, max_reward, verbose)\u001b[0m\n\u001b[1;32m     26\u001b[0m             \u001b[0mdistribution\u001b[0m \u001b[0;34m=\u001b[0m \u001b[0mtorch\u001b[0m\u001b[0;34m.\u001b[0m\u001b[0mdistributions\u001b[0m\u001b[0;34m.\u001b[0m\u001b[0mCategorical\u001b[0m\u001b[0;34m(\u001b[0m\u001b[0maction_probs\u001b[0m\u001b[0;34m)\u001b[0m\u001b[0;34m\u001b[0m\u001b[0;34m\u001b[0m\u001b[0m\n\u001b[1;32m     27\u001b[0m             \u001b[0maction\u001b[0m \u001b[0;34m=\u001b[0m \u001b[0mdistribution\u001b[0m\u001b[0;34m.\u001b[0m\u001b[0msample\u001b[0m\u001b[0;34m(\u001b[0m\u001b[0;34m)\u001b[0m\u001b[0;34m\u001b[0m\u001b[0;34m\u001b[0m\u001b[0m\n\u001b[0;32m---> 28\u001b[0;31m             \u001b[0mnext_state\u001b[0m\u001b[0;34m,\u001b[0m \u001b[0mreward\u001b[0m\u001b[0;34m,\u001b[0m \u001b[0mdone\u001b[0m\u001b[0;34m,\u001b[0m \u001b[0m_\u001b[0m \u001b[0;34m=\u001b[0m \u001b[0menv\u001b[0m\u001b[0;34m.\u001b[0m\u001b[0mstep\u001b[0m\u001b[0;34m(\u001b[0m\u001b[0maction\u001b[0m\u001b[0;34m.\u001b[0m\u001b[0mitem\u001b[0m\u001b[0;34m(\u001b[0m\u001b[0;34m)\u001b[0m\u001b[0;34m)\u001b[0m\u001b[0;34m\u001b[0m\u001b[0;34m\u001b[0m\u001b[0m\n\u001b[0m\u001b[1;32m     29\u001b[0m             \u001b[0mnext_state\u001b[0m \u001b[0;34m=\u001b[0m \u001b[0mformat_state\u001b[0m\u001b[0;34m(\u001b[0m\u001b[0mnext_state\u001b[0m\u001b[0;34m)\u001b[0m\u001b[0;34m\u001b[0m\u001b[0;34m\u001b[0m\u001b[0m\n\u001b[1;32m     30\u001b[0m \u001b[0;34m\u001b[0m\u001b[0m\n",
      "\u001b[0;32m/opt/homebrew/Caskroom/miniforge/base/envs/minihack/lib/python3.9/site-packages/minihack/base.py\u001b[0m in \u001b[0;36mstep\u001b[0;34m(self, action)\u001b[0m\n\u001b[1;32m    319\u001b[0m         \u001b[0;31m# Within this call, _is_episode_end is called and then _reward_fn,\u001b[0m\u001b[0;34m\u001b[0m\u001b[0;34m\u001b[0m\u001b[0m\n\u001b[1;32m    320\u001b[0m         \u001b[0;31m# both using self.reward_manager\u001b[0m\u001b[0;34m\u001b[0m\u001b[0;34m\u001b[0m\u001b[0m\n\u001b[0;32m--> 321\u001b[0;31m         \u001b[0;32mreturn\u001b[0m \u001b[0msuper\u001b[0m\u001b[0;34m(\u001b[0m\u001b[0;34m)\u001b[0m\u001b[0;34m.\u001b[0m\u001b[0mstep\u001b[0m\u001b[0;34m(\u001b[0m\u001b[0maction\u001b[0m\u001b[0;34m)\u001b[0m\u001b[0;34m\u001b[0m\u001b[0;34m\u001b[0m\u001b[0m\n\u001b[0m\u001b[1;32m    322\u001b[0m \u001b[0;34m\u001b[0m\u001b[0m\n\u001b[1;32m    323\u001b[0m     \u001b[0;32mdef\u001b[0m \u001b[0m_is_episode_end\u001b[0m\u001b[0;34m(\u001b[0m\u001b[0mself\u001b[0m\u001b[0;34m,\u001b[0m \u001b[0mobservation\u001b[0m\u001b[0;34m)\u001b[0m\u001b[0;34m:\u001b[0m\u001b[0;34m\u001b[0m\u001b[0;34m\u001b[0m\u001b[0m\n",
      "\u001b[0;32m/opt/homebrew/Caskroom/miniforge/base/envs/minihack/lib/python3.9/site-packages/nle/env/base.py\u001b[0m in \u001b[0;36mstep\u001b[0;34m(self, action)\u001b[0m\n\u001b[1;32m    422\u001b[0m         \u001b[0minfo\u001b[0m\u001b[0;34m[\u001b[0m\u001b[0;34m\"is_ascended\"\u001b[0m\u001b[0;34m]\u001b[0m \u001b[0;34m=\u001b[0m \u001b[0mself\u001b[0m\u001b[0;34m.\u001b[0m\u001b[0menv\u001b[0m\u001b[0;34m.\u001b[0m\u001b[0mhow_done\u001b[0m\u001b[0;34m(\u001b[0m\u001b[0;34m)\u001b[0m \u001b[0;34m==\u001b[0m \u001b[0mnethack\u001b[0m\u001b[0;34m.\u001b[0m\u001b[0mASCENDED\u001b[0m\u001b[0;34m\u001b[0m\u001b[0;34m\u001b[0m\u001b[0m\n\u001b[1;32m    423\u001b[0m \u001b[0;34m\u001b[0m\u001b[0m\n\u001b[0;32m--> 424\u001b[0;31m         \u001b[0;32mreturn\u001b[0m \u001b[0mself\u001b[0m\u001b[0;34m.\u001b[0m\u001b[0m_get_observation\u001b[0m\u001b[0;34m(\u001b[0m\u001b[0mobservation\u001b[0m\u001b[0;34m)\u001b[0m\u001b[0;34m,\u001b[0m \u001b[0mreward\u001b[0m\u001b[0;34m,\u001b[0m \u001b[0mdone\u001b[0m\u001b[0;34m,\u001b[0m \u001b[0minfo\u001b[0m\u001b[0;34m\u001b[0m\u001b[0;34m\u001b[0m\u001b[0m\n\u001b[0m\u001b[1;32m    425\u001b[0m \u001b[0;34m\u001b[0m\u001b[0m\n\u001b[1;32m    426\u001b[0m     \u001b[0;32mdef\u001b[0m \u001b[0m_collect_stats\u001b[0m\u001b[0;34m(\u001b[0m\u001b[0mself\u001b[0m\u001b[0;34m,\u001b[0m \u001b[0mmessage\u001b[0m\u001b[0;34m,\u001b[0m \u001b[0mend_status\u001b[0m\u001b[0;34m)\u001b[0m\u001b[0;34m:\u001b[0m\u001b[0;34m\u001b[0m\u001b[0;34m\u001b[0m\u001b[0m\n",
      "\u001b[0;32m/opt/homebrew/Caskroom/miniforge/base/envs/minihack/lib/python3.9/site-packages/minihack/base.py\u001b[0m in \u001b[0;36m_get_observation\u001b[0;34m(self, observation)\u001b[0m\n\u001b[1;32m    394\u001b[0m \u001b[0;34m\u001b[0m\u001b[0m\n\u001b[1;32m    395\u001b[0m         \u001b[0;32mif\u001b[0m \u001b[0;34m\"pixel\"\u001b[0m \u001b[0;32min\u001b[0m \u001b[0mself\u001b[0m\u001b[0;34m.\u001b[0m\u001b[0m_minihack_obs_keys\u001b[0m\u001b[0;34m:\u001b[0m\u001b[0;34m\u001b[0m\u001b[0;34m\u001b[0m\u001b[0m\n\u001b[0;32m--> 396\u001b[0;31m             obs_dict[\"pixel\"] = self._glyph_mapper.to_rgb(\n\u001b[0m\u001b[1;32m    397\u001b[0m                 \u001b[0mobservation\u001b[0m\u001b[0;34m[\u001b[0m\u001b[0;34m\"glyphs\"\u001b[0m\u001b[0;34m]\u001b[0m\u001b[0;34m\u001b[0m\u001b[0;34m\u001b[0m\u001b[0m\n\u001b[1;32m    398\u001b[0m             )\n",
      "\u001b[0;32m/opt/homebrew/Caskroom/miniforge/base/envs/minihack/lib/python3.9/site-packages/minihack/tiles/glyph_mapper.py\u001b[0m in \u001b[0;36mto_rgb\u001b[0;34m(self, glyphs)\u001b[0m\n\u001b[1;32m     54\u001b[0m \u001b[0;34m\u001b[0m\u001b[0m\n\u001b[1;32m     55\u001b[0m     \u001b[0;32mdef\u001b[0m \u001b[0mto_rgb\u001b[0m\u001b[0;34m(\u001b[0m\u001b[0mself\u001b[0m\u001b[0;34m,\u001b[0m \u001b[0mglyphs\u001b[0m\u001b[0;34m)\u001b[0m\u001b[0;34m:\u001b[0m\u001b[0;34m\u001b[0m\u001b[0;34m\u001b[0m\u001b[0m\n\u001b[0;32m---> 56\u001b[0;31m         \u001b[0;32mreturn\u001b[0m \u001b[0mself\u001b[0m\u001b[0;34m.\u001b[0m\u001b[0m_glyph_to_rgb\u001b[0m\u001b[0;34m(\u001b[0m\u001b[0mglyphs\u001b[0m\u001b[0;34m)\u001b[0m\u001b[0;34m\u001b[0m\u001b[0;34m\u001b[0m\u001b[0m\n\u001b[0m",
      "\u001b[0;32m/opt/homebrew/Caskroom/miniforge/base/envs/minihack/lib/python3.9/site-packages/minihack/tiles/glyph_mapper.py\u001b[0m in \u001b[0;36m_glyph_to_rgb\u001b[0;34m(self, glyphs)\u001b[0m\n\u001b[1;32m     43\u001b[0m                     \u001b[0mcol\u001b[0m \u001b[0;34m=\u001b[0m \u001b[0mrgb\u001b[0m\u001b[0;34m\u001b[0m\u001b[0;34m\u001b[0m\u001b[0m\n\u001b[1;32m     44\u001b[0m                 \u001b[0;32melse\u001b[0m\u001b[0;34m:\u001b[0m\u001b[0;34m\u001b[0m\u001b[0;34m\u001b[0m\u001b[0m\n\u001b[0;32m---> 45\u001b[0;31m                     \u001b[0mcol\u001b[0m \u001b[0;34m=\u001b[0m \u001b[0mnp\u001b[0m\u001b[0;34m.\u001b[0m\u001b[0mconcatenate\u001b[0m\u001b[0;34m(\u001b[0m\u001b[0;34m(\u001b[0m\u001b[0mcol\u001b[0m\u001b[0;34m,\u001b[0m \u001b[0mrgb\u001b[0m\u001b[0;34m)\u001b[0m\u001b[0;34m)\u001b[0m\u001b[0;34m\u001b[0m\u001b[0;34m\u001b[0m\u001b[0m\n\u001b[0m\u001b[1;32m     46\u001b[0m \u001b[0;34m\u001b[0m\u001b[0m\n\u001b[1;32m     47\u001b[0m             \u001b[0;32mif\u001b[0m \u001b[0mcols\u001b[0m \u001b[0;32mis\u001b[0m \u001b[0;32mNone\u001b[0m\u001b[0;34m:\u001b[0m\u001b[0;34m\u001b[0m\u001b[0;34m\u001b[0m\u001b[0m\n",
      "\u001b[0;32m<__array_function__ internals>\u001b[0m in \u001b[0;36mconcatenate\u001b[0;34m(*args, **kwargs)\u001b[0m\n",
      "\u001b[0;31mKeyboardInterrupt\u001b[0m: "
     ]
    }
   ],
   "source": [
    "model = ActorCritic(h_size=128, input_dim = 128, a_size=env.action_space.n)\n",
    "policy, scores = actor_critic(env=env, model= model, seed=42, learning_rate=0.02, betas=(0.9, 0.999),\n",
    "                           number_episodes=100, max_episode_length=10000, gamma=1 ,verbose=True, max_reward=1)"
   ]
  },
  {
   "cell_type": "code",
   "execution_count": 296,
   "id": "f9600bf5",
   "metadata": {},
   "outputs": [
    {
     "data": {
      "text/plain": [
       "[<matplotlib.lines.Line2D at 0x1698917c0>]"
      ]
     },
     "execution_count": 296,
     "metadata": {},
     "output_type": "execute_result"
    },
    {
     "data": {
      "image/png": "[encoded data removed]",
      "text/plain": [
       "<Figure size 432x288 with 1 Axes>"
      ]
     },
     "metadata": {
      "needs_background": "light"
     },
     "output_type": "display_data"
    }
   ],
   "source": [
    "plt.plot(scores)"
   ]
  },
  {
   "cell_type": "code",
   "execution_count": null,
   "id": "b4b8e502",
   "metadata": {},
   "outputs": [],
   "source": []
  }
 ],
 "metadata": {
  "kernelspec": {
   "display_name": "Python [conda env:minihack] *",
   "language": "python",
   "name": "conda-env-minihack-py"
  },
  "language_info": {
   "codemirror_mode": {
    "name": "ipython",
    "version": 3
   },
   "file_extension": ".py",
   "mimetype": "text/x-python",
   "name": "python",
   "nbconvert_exporter": "python",
   "pygments_lexer": "ipython3",
   "version": "3.9.7"
  }
 },
 "nbformat": 4,
 "nbformat_minor": 5
}
