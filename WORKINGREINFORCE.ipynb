{
 "cells": [
  {
   "cell_type": "code",
   "execution_count": 1,
   "id": "fdffc895",
   "metadata": {},
   "outputs": [
    {
     "name": "stdout",
     "output_type": "stream",
     "text": [
      "Init Plugin\n",
      "Init Graph Optimizer\n",
      "Init Kernel\n"
     ]
    }
   ],
   "source": [
    "import numpy as np\n",
    "import gym\n",
    "\n",
    "import tensorflow as tf\n",
    "import tensorflow.keras as keras\n",
    "from tensorflow.keras.layers import Dense\n",
    "from tensorflow.keras.optimizers import Adam\n",
    "import tensorflow_probability as tfp\n",
    "\n",
    "import matplotlib.pyplot as plt "
   ]
  },
  {
   "cell_type": "code",
   "execution_count": 2,
   "id": "d040060b",
   "metadata": {},
   "outputs": [],
   "source": [
    "class PolicyGradientNetwork(keras.Model):\n",
    "    \n",
    "    # Initialize network and archtitecture\n",
    "    def __init__(self, n_actions, fc1_dims=256, fc2_dims=256):\n",
    "        super(PolicyGradientNetwork,self).__init__()\n",
    "        self.fc1_dims = fc1_dims\n",
    "        self.fc2_dims = fc2_dims \n",
    "        self.n_actions = n_actions\n",
    "        \n",
    "        self.fc1 = Dense(self.fc1_dims, activation = 'relu')\n",
    "        self.fc2 = Dense(self.fc2_dims, activation = 'relu')\n",
    "        self.pi = Dense(self.n_actions, activation = 'softmax')\n",
    "    \n",
    "    # Forward Pass\n",
    "    def call(self,state):\n",
    "        value = self.fc1(state)\n",
    "        value = self.fc2(value)\n",
    "        \n",
    "        pi = self.pi(value)\n",
    "        \n",
    "        return pi "
   ]
  },
  {
   "cell_type": "code",
   "execution_count": 3,
   "id": "95c6cefd",
   "metadata": {},
   "outputs": [],
   "source": [
    "class Agent:\n",
    "    def __init__(self, alpha = 0.003, gamma = 0.99, n_actions = 4, fc1_dims = 256, fc2_dims = 256):\n",
    "        self.gamma = gamma\n",
    "        self.alpha = alpha\n",
    "        self.n_actions = n_actions\n",
    "        \n",
    "        # Keep tracks of the actions we take, the states we visit and the rewards we get \n",
    "        self.state_memory = [] \n",
    "        self.action_memory = [] \n",
    "        self.reward_memory = [] \n",
    "        \n",
    "        # Policy Network \n",
    "        self.policy = PolicyGradientNetwork(n_actions=n_actions)\n",
    "        self.policy.compile(optimizer=Adam(learning_rate=self.alpha))\n",
    "    \n",
    "    def choose_action(self, observation):\n",
    "        # Convert numpy array to tensorflow tensor\n",
    "        state = tf.convert_to_tensor([observation], dtype=tf.float32)\n",
    "        \n",
    "        # Then we want to pass that state through the policy network \n",
    "        # Which gives us the probability distribution for choosing each action \n",
    "        probs = self.policy(state)\n",
    "        \n",
    "        # Used when you have a set of discrete classes and you want to choose one of classes with a particular proba\n",
    "        action_probs = tfp.distributions.Categorical(probs=probs)\n",
    "        action = action_probs.sample()\n",
    "        \n",
    "        return action.numpy()[0]\n",
    "    \n",
    "    def store_transition(self, observation, action, reward):\n",
    "        # Stores the transitions of the current episode \n",
    "        self.state_memory.append(observation)\n",
    "        self.action_memory.append(action)\n",
    "        self.reward_memory.append(reward)\n",
    "        \n",
    "    def learn(self):\n",
    "        # Now we need a function to actually perform the agents learning \n",
    "        \n",
    "        # Convert actions and rewards to tensors\n",
    "        actions = tf.convert_to_tensor(self.action_memory, dtype=tf.float32)\n",
    "        rewards = tf.convert_to_tensor(self.reward_memory, dtype=tf.float32)\n",
    "        \n",
    "        # Calculate sum of future rewards which follow each time step \n",
    "        G = np.zeros_like(rewards)\n",
    "        # Now we iterate over the agents memory \n",
    "        for t in range(len(rewards)):\n",
    "            G_sum = 0 \n",
    "            discount = 1 # Present step \n",
    "            for k in range(t, len(rewards)): # Goes from current time step to end of the episode \n",
    "                G_sum += rewards[k]*discount\n",
    "                discount *= self.gamma\n",
    "            G[t]= G_sum \n",
    "        \n",
    "        # Now we can calculate the gradient at each time step in the episode \n",
    "        with tf.GradientTape() as tape:\n",
    "            loss = 0 \n",
    "            # Now workign back through the agent's memory \n",
    "            for idx, (g,state) in enumerate(zip(G,self.state_memory)):\n",
    "                state = tf.convert_to_tensor([state], dtype=tf.float32)\n",
    "                probs = self.policy(state)\n",
    "                action_probs = tfp.distributions.Categorical(probs=probs)\n",
    "                # Log probability for the gradient calculation\n",
    "                log_prob = action_probs.log_prob(actions[idx])\n",
    "                loss += -g * tf.squeeze(log_prob)\n",
    "                \n",
    "        gradient = tape.gradient(loss, self.policy.trainable_variables)\n",
    "        self.policy.optimizer.apply_gradients(zip(gradient, self.policy.trainable_variables))\n",
    "        \n",
    "        # Now at the end of every episode we need to zero out (empty) our agent's memory \n",
    "        \n",
    "        self.state_memory = [] \n",
    "        self.action_memory = [] \n",
    "        self.reward_memory = [] "
   ]
  },
  {
   "cell_type": "code",
   "execution_count": 4,
   "id": "1a35424a",
   "metadata": {},
   "outputs": [],
   "source": [
    "import gym\n",
    "import minihack\n",
    "from PIL import Image\n",
    "import numpy as np\n",
    "import matplotlib.pyplot as plt\n",
    "from nle import nethack\n",
    "import time"
   ]
  },
  {
   "cell_type": "code",
   "execution_count": 5,
   "id": "411704e8",
   "metadata": {
    "scrolled": false
   },
   "outputs": [],
   "source": [
    "env = gym.make(\"MiniHack-Room-5x5-v0\", observation_keys=[\"glyphs\",\"pixel\"])\n",
    "#display_screen(env.reset())"
   ]
  },
  {
   "cell_type": "code",
   "execution_count": 6,
   "id": "aab0c75c",
   "metadata": {},
   "outputs": [
    {
     "data": {
      "text/plain": [
       "(<CompassDirection.N: 107>,\n",
       " <CompassDirection.E: 108>,\n",
       " <CompassDirection.S: 106>,\n",
       " <CompassDirection.W: 104>,\n",
       " <CompassDirection.NE: 117>,\n",
       " <CompassDirection.SE: 110>,\n",
       " <CompassDirection.SW: 98>,\n",
       " <CompassDirection.NW: 121>)"
      ]
     },
     "execution_count": 6,
     "metadata": {},
     "output_type": "execute_result"
    }
   ],
   "source": [
    "env._actions"
   ]
  },
  {
   "cell_type": "code",
   "execution_count": 7,
   "id": "3a166899",
   "metadata": {},
   "outputs": [],
   "source": [
    "#def glyph_array(state):\n",
    "    #return state['glyphs_crop'].flatten()"
   ]
  },
  {
   "cell_type": "code",
   "execution_count": 8,
   "id": "c1458437",
   "metadata": {},
   "outputs": [],
   "source": [
    "def glyph_array(state):\n",
    "    glyphs = state['glyphs'].flatten()\n",
    "    glyphs = glyphs[glyphs!=2359]\n",
    "    glyphs = glyphs/2383\n",
    "    return glyphs"
   ]
  },
  {
   "cell_type": "code",
   "execution_count": 9,
   "id": "df122d71",
   "metadata": {
    "scrolled": true
   },
   "outputs": [
    {
     "name": "stderr",
     "output_type": "stream",
     "text": [
      "2021-10-25 16:55:06.130844: I tensorflow/core/common_runtime/pluggable_device/pluggable_device_factory.cc:305] Could not identify NUMA node of platform GPU ID 0, defaulting to 0. Your kernel may not have been built with NUMA support.\n",
      "2021-10-25 16:55:06.131046: I tensorflow/core/common_runtime/pluggable_device/pluggable_device_factory.cc:271] Created TensorFlow device (/job:localhost/replica:0/task:0/device:GPU:0 with 0 MB memory) -> physical PluggableDevice (device: 0, name: METAL, pci bus id: <undefined>)\n"
     ]
    },
    {
     "name": "stdout",
     "output_type": "stream",
     "text": [
      "Metal device set to: Apple M1\n",
      "episode  0 score 0.6 avg score 0.6\n",
      "episode  1 score 0.9 avg score 0.8\n",
      "episode  2 score 0.9 avg score 0.8\n",
      "episode  3 score 0.9 avg score 0.8\n",
      "episode  4 score 0.9 avg score 0.9\n",
      "episode  5 score 0.8 avg score 0.8\n",
      "episode  6 score 0.9 avg score 0.9\n",
      "episode  7 score 0.9 avg score 0.9\n",
      "episode  8 score 1.0 avg score 0.9\n",
      "episode  9 score 1.0 avg score 0.9\n",
      "episode  10 score 1.0 avg score 0.9\n",
      "episode  11 score 1.0 avg score 0.9\n",
      "episode  12 score 1.0 avg score 0.9\n",
      "episode  13 score 0.9 avg score 0.9\n",
      "episode  14 score 0.9 avg score 0.9\n",
      "episode  15 score 1.0 avg score 0.9\n",
      "episode  16 score 0.9 avg score 0.9\n",
      "episode  17 score 0.9 avg score 0.9\n",
      "episode  18 score 0.9 avg score 0.9\n",
      "episode  19 score 1.0 avg score 0.9\n",
      "episode  20 score 1.0 avg score 0.9\n",
      "episode  21 score 0.9 avg score 0.9\n",
      "episode  22 score 1.0 avg score 0.9\n",
      "episode  23 score 1.0 avg score 0.9\n",
      "episode  24 score 1.0 avg score 0.9\n",
      "episode  25 score 1.0 avg score 0.9\n",
      "episode  26 score 0.9 avg score 0.9\n",
      "episode  27 score 1.0 avg score 0.9\n",
      "episode  28 score 1.0 avg score 0.9\n",
      "episode  29 score 1.0 avg score 0.9\n",
      "episode  30 score 1.0 avg score 0.9\n",
      "episode  31 score 1.0 avg score 0.9\n",
      "episode  32 score 0.9 avg score 0.9\n",
      "episode  33 score 1.0 avg score 0.9\n",
      "episode  34 score 0.9 avg score 0.9\n",
      "episode  35 score 1.0 avg score 0.9\n",
      "episode  36 score 0.9 avg score 0.9\n",
      "episode  37 score 0.9 avg score 0.9\n",
      "episode  38 score 1.0 avg score 0.9\n",
      "episode  39 score 0.9 avg score 0.9\n",
      "episode  40 score 1.0 avg score 0.9\n",
      "episode  41 score 1.0 avg score 0.9\n",
      "episode  42 score 1.0 avg score 0.9\n",
      "episode  43 score 1.0 avg score 0.9\n",
      "episode  44 score 1.0 avg score 0.9\n",
      "episode  45 score 0.9 avg score 0.9\n",
      "episode  46 score 1.0 avg score 0.9\n",
      "episode  47 score 1.0 avg score 0.9\n",
      "episode  48 score 0.9 avg score 0.9\n",
      "episode  49 score 1.0 avg score 0.9\n",
      "episode  50 score 1.0 avg score 0.9\n",
      "episode  51 score 1.0 avg score 0.9\n",
      "episode  52 score 1.0 avg score 1.0\n",
      "episode  53 score 0.9 avg score 0.9\n",
      "episode  54 score 1.0 avg score 1.0\n",
      "episode  55 score 1.0 avg score 1.0\n",
      "episode  56 score 1.0 avg score 1.0\n",
      "episode  57 score 0.9 avg score 1.0\n",
      "episode  58 score 1.0 avg score 1.0\n",
      "episode  59 score 1.0 avg score 1.0\n",
      "episode  60 score 1.0 avg score 1.0\n",
      "episode  61 score 1.0 avg score 1.0\n",
      "episode  62 score 1.0 avg score 1.0\n",
      "episode  63 score 1.0 avg score 1.0\n",
      "episode  64 score 1.0 avg score 1.0\n",
      "episode  65 score 0.9 avg score 1.0\n",
      "episode  66 score 1.0 avg score 1.0\n",
      "episode  67 score 1.0 avg score 1.0\n",
      "episode  68 score 0.9 avg score 1.0\n",
      "episode  69 score 1.0 avg score 1.0\n",
      "episode  70 score 1.0 avg score 1.0\n",
      "episode  71 score 1.0 avg score 1.0\n",
      "episode  72 score 1.0 avg score 1.0\n",
      "episode  73 score 1.0 avg score 1.0\n",
      "episode  74 score 1.0 avg score 1.0\n",
      "episode  75 score 1.0 avg score 1.0\n",
      "episode  76 score 1.0 avg score 1.0\n",
      "episode  77 score 0.9 avg score 1.0\n",
      "episode  78 score 1.0 avg score 1.0\n",
      "episode  79 score 0.9 avg score 1.0\n",
      "episode  80 score 1.0 avg score 1.0\n",
      "episode  81 score 0.9 avg score 1.0\n",
      "episode  82 score 1.0 avg score 1.0\n",
      "episode  83 score 1.0 avg score 1.0\n",
      "episode  84 score 1.0 avg score 1.0\n",
      "episode  85 score 1.0 avg score 1.0\n",
      "episode  86 score 1.0 avg score 1.0\n",
      "episode  87 score 1.0 avg score 1.0\n",
      "episode  88 score 1.0 avg score 1.0\n",
      "episode  89 score 1.0 avg score 1.0\n",
      "episode  90 score 1.0 avg score 1.0\n",
      "episode  91 score 1.0 avg score 1.0\n",
      "episode  92 score 1.0 avg score 1.0\n",
      "episode  93 score 1.0 avg score 1.0\n",
      "episode  94 score 1.0 avg score 1.0\n",
      "episode  95 score 1.0 avg score 1.0\n",
      "episode  96 score 0.9 avg score 1.0\n",
      "episode  97 score 1.0 avg score 1.0\n",
      "episode  98 score 0.9 avg score 1.0\n",
      "episode  99 score 1.0 avg score 1.0\n"
     ]
    },
    {
     "data": {
      "text/plain": [
       "[<matplotlib.lines.Line2D at 0x2b5b59e80>]"
      ]
     },
     "execution_count": 9,
     "metadata": {},
     "output_type": "execute_result"
    },
    {
     "data": {
      "image/png": "[encoded data removed]",
      "text/plain": [
       "<Figure size 432x288 with 1 Axes>"
      ]
     },
     "metadata": {
      "needs_background": "light"
     },
     "output_type": "display_data"
    }
   ],
   "source": [
    "agent = Agent(alpha=0.0005, gamma =0.9, n_actions = 7)\n",
    "\n",
    "score_history = [] \n",
    "n_episodes = 100\n",
    "\n",
    "for i in range(n_episodes):\n",
    "    done = False\n",
    "    score = 0 \n",
    "    observation = glyph_array(env.reset())\n",
    "    \n",
    "    while not done:\n",
    "        action = agent.choose_action(observation)\n",
    "        #print(action)\n",
    "        observation_, reward, done, info = env.step(action)\n",
    "        observation_ = glyph_array(observation_)\n",
    "        agent.store_transition(observation, action, reward)\n",
    "        observation = observation_ \n",
    "        score += reward \n",
    "    score_history.append(score)\n",
    "    \n",
    "    agent.learn()\n",
    "    \n",
    "    avg_score = np.mean(score_history[-100:])\n",
    "    print('episode ', i, 'score %.1f' % score, 'avg score %.1f' % avg_score)\n",
    "    \n",
    "plt.plot(score_history)"
   ]
  },
  {
   "cell_type": "code",
   "execution_count": 15,
   "id": "20416941",
   "metadata": {},
   "outputs": [],
   "source": [
    "def glyph_array(state):\n",
    "    glyphs = state['glyphs'].flatten()\n",
    "    glyphs = glyphs[glyphs!=2359]\n",
    "    glyphs = glyphs/2383\n",
    "    return glyphs"
   ]
  },
  {
   "cell_type": "code",
   "execution_count": 16,
   "id": "f312c91d",
   "metadata": {},
   "outputs": [],
   "source": [
    "def display_screen(state): # state in rgb \n",
    "    screen = Image.fromarray(np.uint8(state['pixel']))\n",
    "    display(screen)"
   ]
  },
  {
   "cell_type": "code",
   "execution_count": 17,
   "id": "f420ea83",
   "metadata": {},
   "outputs": [
    {
     "data": {
      "image/png": "[encoded data removed]",
      "text/plain": [
       "<PIL.Image.Image image mode=RGB size=1264x336 at 0x2B07C41C0>"
      ]
     },
     "metadata": {},
     "output_type": "display_data"
    },
    {
     "data": {
      "image/png": "[encoded data removed]",
      "text/plain": [
       "<PIL.Image.Image image mode=RGB size=1264x336 at 0x2B07C4070>"
      ]
     },
     "metadata": {},
     "output_type": "display_data"
    },
    {
     "data": {
      "image/png": "[encoded data removed]",
      "text/plain": [
       "<PIL.Image.Image image mode=RGB size=1264x336 at 0x2B5B788B0>"
      ]
     },
     "metadata": {},
     "output_type": "display_data"
    },
    {
     "data": {
      "image/png": "[encoded data removed]",
      "text/plain": [
       "<PIL.Image.Image image mode=RGB size=1264x336 at 0x2B07C4070>"
      ]
     },
     "metadata": {},
     "output_type": "display_data"
    },
    {
     "data": {
      "image/png": "[encoded data removed]",
      "text/plain": [
       "<PIL.Image.Image image mode=RGB size=1264x336 at 0x2B07C4070>"
      ]
     },
     "metadata": {},
     "output_type": "display_data"
    },
    {
     "data": {
      "image/png": "[encoded data removed]",
      "text/plain": [
       "<PIL.Image.Image image mode=RGB size=1264x336 at 0x2B07C4070>"
      ]
     },
     "metadata": {},
     "output_type": "display_data"
    },
    {
     "data": {
      "image/png": "[encoded data removed]",
      "text/plain": [
       "<PIL.Image.Image image mode=RGB size=1264x336 at 0x29F072640>"
      ]
     },
     "metadata": {},
     "output_type": "display_data"
    },
    {
     "data": {
      "image/png": "[encoded data removed]",
      "text/plain": [
       "<PIL.Image.Image image mode=RGB size=1264x336 at 0x29F072640>"
      ]
     },
     "metadata": {},
     "output_type": "display_data"
    }
   ],
   "source": [
    "observation = env.reset()\n",
    "done = False \n",
    "while not done:\n",
    "    display_screen(observation)\n",
    "    action = agent.choose_action(glyph_array(observation))\n",
    "    observation_, reward, done, info = env.step(action)\n",
    "    observation = observation_ "
   ]
  },
  {
   "cell_type": "code",
   "execution_count": null,
   "id": "9e6985d1",
   "metadata": {},
   "outputs": [],
   "source": []
  }
 ],
 "metadata": {
  "kernelspec": {
   "display_name": "Python [conda env:minihack]",
   "language": "python",
   "name": "conda-env-minihack-py"
  },
  "language_info": {
   "codemirror_mode": {
    "name": "ipython",
    "version": 3
   },
   "file_extension": ".py",
   "mimetype": "text/x-python",
   "name": "python",
   "nbconvert_exporter": "python",
   "pygments_lexer": "ipython3",
   "version": "3.9.7"
  }
 },
 "nbformat": 4,
 "nbformat_minor": 5
}
